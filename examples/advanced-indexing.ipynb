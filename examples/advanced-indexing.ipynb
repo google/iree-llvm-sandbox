{
 "cells": [
  {
   "cell_type": "markdown",
   "id": "8d1ad308",
   "metadata": {},
   "source": [
    "# Advanced Indexing\n",
    "\n",
    "A brief tutorial on numpy's [advanced indexing](https://numpy.org/doc/stable/user/basics.indexing.html#advanced-indexing) as it pertains to the `Indexing` dialect (see [here](https://discourse.llvm.org/t/rfc-structured-codegen-beyond-rectangular-arrays/64707)).\n",
    "\n",
    "Note this notebook uses starred-unpacking for index expressions which requires Python >= 3.11"
   ]
  },
  {
   "cell_type": "code",
   "execution_count": 1,
   "id": "38992819",
   "metadata": {},
   "outputs": [],
   "source": [
    "import numpy as np\n",
    "from numpy.random import randint"
   ]
  },
  {
   "cell_type": "markdown",
   "id": "d495e16b",
   "metadata": {},
   "source": [
    "## Intro"
   ]
  },
  {
   "cell_type": "markdown",
   "id": "53be532d",
   "metadata": {},
   "source": [
    "Consider extracting a collection of slices of a 3-D shaped like ~ $2 \\times 30 \\times 4$:"
   ]
  },
  {
   "cell_type": "code",
   "execution_count": 2,
   "id": "c20ad89c",
   "metadata": {},
   "outputs": [],
   "source": [
    "input = randint(0, 10, (3, 30, 4))\n",
    "a = input[:, 0, :]\n",
    "b = input[:, 5, :]\n",
    "c = input[:, 14, :]\n",
    "d = input[:, 24, :]\n",
    "# ..."
   ]
  },
  {
   "cell_type": "markdown",
   "id": "414ab497",
   "metadata": {},
   "source": [
    "This can also be done more easily using \"advanced indexing\":"
   ]
  },
  {
   "cell_type": "code",
   "execution_count": 3,
   "id": "ff7b52f4",
   "metadata": {},
   "outputs": [],
   "source": [
    "abcd = input[:,(0, 5, 14, 24), :]\n",
    "assert np.array_equal(abcd[:, 0, :], a)\n",
    "assert np.array_equal(abcd[:, 1, :], b)\n",
    "assert np.array_equal(abcd[:, 2, :], c)\n",
    "assert np.array_equal(abcd[:, 3, :], d)\n",
    "assert abcd.shape == (3, 4, 4)"
   ]
  },
  {
   "cell_type": "markdown",
   "id": "5f59a62c",
   "metadata": {},
   "source": [
    "You can also simultaneously reshape the result by provinding the indexes in some shape:"
   ]
  },
  {
   "cell_type": "code",
   "execution_count": 4,
   "id": "6d20ddb1",
   "metadata": {},
   "outputs": [],
   "source": [
    "indices = np.array([[0, 5], [14, 24]])\n",
    "abcd = input[:, indices, :]\n",
    "assert np.array_equal(abcd[:, 0, 0, :], a)\n",
    "assert np.array_equal(abcd[:, 0, 1, :], b)\n",
    "assert np.array_equal(abcd[:, 1, 0, :], c)\n",
    "assert np.array_equal(abcd[:, 1, 1, :], d)\n",
    "assert abcd.shape == (3, 2, 2, 4)"
   ]
  },
  {
   "cell_type": "markdown",
   "id": "e3e1bd7c",
   "metadata": {},
   "source": [
    "Notice that the result is expanded to accomodate both the shapes of the `input` and the `indices`. By the way, another way to index into `abcd` is starred-tuple unpacking:"
   ]
  },
  {
   "cell_type": "code",
   "execution_count": 5,
   "id": "04010fac",
   "metadata": {},
   "outputs": [],
   "source": [
    "assert np.array_equal(abcd[:, *(0, 0), :], a)\n",
    "assert np.array_equal(abcd[:, *(0, 1), :], b)\n",
    "assert np.array_equal(abcd[:, *(1, 0), :], c)\n",
    "assert np.array_equal(abcd[:, *(1, 1), :], d)"
   ]
  },
  {
   "cell_type": "markdown",
   "id": "61ef3393",
   "metadata": {},
   "source": [
    "It's also important to understand what `abcd` is; while the original array has dimensions $2 \\times 30 \\times 4$ while `abcd` has distinct (different from `input`) interior dimensions. $2 \\times 2$ seems somehow smaller/related to $30$ but it's not; the indexing dimensions determine output side _at those dimensions_:"
   ]
  },
  {
   "cell_type": "code",
   "execution_count": 6,
   "id": "4a7ca0b5",
   "metadata": {},
   "outputs": [],
   "source": [
    "indices_ = randint(0, 30, (100, 100))\n",
    "abcd_ = input[:, indices_, :]\n",
    "assert abcd_.shape == (3, 100, 100, 4)"
   ]
  },
  {
   "cell_type": "markdown",
   "id": "da373429",
   "metadata": {},
   "source": [
    "What's happening here is not that you're creating a larger array; in numpy `abcd` is a [\"view\"](https://numpy.org/doc/stable/user/basics.copies.html) (something like an array of pointers to the original data) on the original `input` and no copies are (necessarily) performed."
   ]
  },
  {
   "cell_type": "markdown",
   "id": "2674aafd",
   "metadata": {},
   "source": [
    "## Gather"
   ]
  },
  {
   "cell_type": "markdown",
   "id": "70ad743f",
   "metadata": {},
   "source": [
    "The previous example (indexing along one dimension) directly corresponds to the numpy operation [`take`](https://numpy.org/doc/stable/reference/generated/numpy.take.html):"
   ]
  },
  {
   "cell_type": "code",
   "execution_count": 7,
   "id": "b0154a65",
   "metadata": {},
   "outputs": [],
   "source": [
    "assert np.array_equal(np.take(input, indices, axis=1), abcd)"
   ]
  },
  {
   "cell_type": "markdown",
   "id": "9b71e503",
   "metadata": {},
   "source": [
    "and therefore directly corresponds to the operation [`tensor.gather`](https://mlir.llvm.org/docs/Dialects/TensorOps/#tensorgather-mlirtensorgatherop) as well (with a few small differences):\n",
    "\n",
    "```mlir\n",
    "%abcd = tensor.gather %input[%indices] gather_dims([1]) :\n",
    "    (tensor<3x30x4xf32>, tensor<2x2x 1xindex>) -> tensor<2x2x3x1x4xf32>\n",
    "```\n",
    "\n",
    "Note the slight (matter of convention) differences:\n",
    "\n",
    "1. The `%indices` tensor is \"unsqueezed\" in the trailing dimension (there's a sort-of redundant `x1` in the shape `2x2x1`)\n",
    "2. The result tensor (`%abcd`) has axes permuted so that the shape of the `%indices` tensor is leading (the `2x2x` is \"in front\"). The effect of this choice of conventions is that (figuratively) `%input[:, %indices[0, 0], :] == %abcd[0, 0, ...]` i.e., the actual indices can be placed in leading position in both the indexing tensor and the result.\n",
    "3. The result tensor preserves the rank of the `%input` tensor (`3x1x4` instead of `3x4`). This can actually be reconciled with numpy by using the \"rank-reducing\" form of `tensor.gather`."
   ]
  },
  {
   "cell_type": "markdown",
   "id": "321ddcb3",
   "metadata": {},
   "source": [
    "`tensor.gather` is \"more powerful\" than `numpy.take`; a slightly more complicated example:\n",
    "\n",
    "```mlir\n",
    "%out = tensor.gather %input[%indices] gather_dims([0, 2]) :\n",
    "  (tensor<20x3x40xf32>, tensor<5x6x 2xindex>) -> tensor<5x6x3xf32>\n",
    "```\n",
    "\n",
    "which corresponds to:"
   ]
  },
  {
   "cell_type": "code",
   "execution_count": 8,
   "id": "ea5fbebc",
   "metadata": {},
   "outputs": [],
   "source": [
    "input = randint(0, 10, (20, 3, 40))\n",
    "indices_0 = randint(0, 20, (5, 6))\n",
    "indices_1 = randint(0, 40, (5, 6))\n",
    "out = input[indices_0, :, indices_1]\n",
    "assert out.shape == (5, 6, 3)\n",
    "\n",
    "for index in np.ndindex(5, 6):\n",
    "  coord_0, coord_1 = indices_0[index], indices_1[index]\n",
    "  assert np.array_equal(out[index], input[coord_0, :, coord_1])"
   ]
  },
  {
   "cell_type": "markdown",
   "id": "3dd0bdef",
   "metadata": {},
   "source": [
    "It's important to consider how advanced indexing works in order to draw the analogy: `input[indices[:, :, 0], :, indices[:, :, 1]]` means take the $5 \\times 6$ collection of numbers `indices[:, :, 0]` (which will index the $0$th dimension of `input`), pair them with the corresponding numbers in `indices[:, :, 1]` (which will index the $2$nd dimension of `input`) and use those pairs to slice `input` (along the $1$st dimension). \n",
    "\n",
    "Note, that something like "
   ]
  },
  {
   "cell_type": "code",
   "execution_count": 9,
   "id": "20f1f4e4",
   "metadata": {},
   "outputs": [],
   "source": [
    "indices_0 = randint(0, 10, (5, 6))\n",
    "indices_1 = randint(0, 10, (10, 3))"
   ]
  },
  {
   "cell_type": "markdown",
   "id": "51dda9a1",
   "metadata": {},
   "source": [
    "won't work because the shapes are different and cannot be reconciled (via broadcast):"
   ]
  },
  {
   "cell_type": "code",
   "execution_count": 10,
   "id": "9ada7cf5",
   "metadata": {},
   "outputs": [],
   "source": [
    "indices_0 = randint(0, 10, (5, 6))\n",
    "indices_1 = randint(0, 10, (10, 3))\n",
    "\n",
    "try:\n",
    "    out = input[indices_0, :, indices_1]\n",
    "except IndexError as e:\n",
    "    assert e.args[0].strip() == 'shape mismatch: indexing arrays could not be broadcast together with shapes (5,6) (10,3)'"
   ]
  },
  {
   "cell_type": "markdown",
   "id": "a1e7e04f",
   "metadata": {},
   "source": [
    "## Scatter"
   ]
  },
  {
   "cell_type": "markdown",
   "id": "e006b442",
   "metadata": {},
   "source": [
    "[`tensor.scatter`](https://mlir.llvm.org/docs/Dialects/TensorOps/#tensorscatter-mlirtensorscatterop) corresponds to numpy's [`put`](https://numpy.org/doc/stable/reference/generated/numpy.put.html) operation and thus is symmetrically related to `tensor.gather`:\n",
    "\n",
    "```mlir\n",
    "%out = tensor.scatter %source into %dest[%indices] scatter_dims([1]) :\n",
    "    tensor<5x6x4x4xf32> into tensor<4x100x4xf32>[tensor<5x6x 1xindex>] -> tensor<4x100x4xf32>\n",
    "```\n",
    "\n",
    "corresponds to"
   ]
  },
  {
   "cell_type": "code",
   "execution_count": 11,
   "id": "0c7b2922",
   "metadata": {},
   "outputs": [],
   "source": [
    "source = randint(0, 10, (5, 6, 4, 4))\n",
    "dest = np.zeros((4, 100, 4))\n",
    "indices = randint(0, 100, (5, 6))\n",
    "\n",
    "# ensure that indices are unique to prevent WAW hazard\n",
    "while len(np.unique(indices)) != 30:\n",
    "  indices = randint(0, 100, (5, 6))\n",
    "\n",
    "# shuffle axes so that source index dims \"line\" up with dest index dim\n",
    "source_ = np.moveaxis(source, (0, 1), (1, 2))\n",
    "assert source_.shape == (4, 5, 6, 4)\n",
    "\n",
    "dest[:, indices, :] = source_\n",
    "\n",
    "for index in np.ndindex(5, 6):\n",
    "  coord = indices[*index]\n",
    "  assert np.array_equal(dest[:, coord, :], source[*index])"
   ]
  },
  {
   "cell_type": "markdown",
   "id": "fb2c96e6",
   "metadata": {},
   "source": [
    "**Stated in words**: scatter thirty slices (of size $4 \\times 4$) from `source` into `dest` where the \"location\" `k` (i.e., `dest[:, k, :]`) of the slice `source[i, j, :, :]` is specified by `k = indices[i, j]`. Two things to note:\n",
    "\n",
    "1. We need to ensure that the \"location\" `k` is unique so that inserting a slice doesn't overwrite another slice that had already been inserted. In general, non-unique `k` has \"undefined behavior\" semantics (i.e., all bets are off regarding the results).\n",
    "2. Leading index dims (`5, 6, ...`) corresponds to `tensor.scatter` semantics but numpy expects index dims to line up with the dimension that is being indexed in `dest` (hence the `np.moveaxis`).\n",
    "\n",
    "Scattering along multiple dimensions looks symmetrical with the `tensor.gather` case: \n",
    "\n",
    "```mlir\n",
    "%out = scatter %source into %dest[%indices] scatter_dims([0, 2]) :\n",
    "   tensor<5x6x4xf32> into tensor<1000x4x1000xf32>[tensor<5x6x 2xindex>] -> tensor<1000x4x1000xf32>\n",
    "```\n",
    "\n",
    "corresponds to"
   ]
  },
  {
   "cell_type": "code",
   "execution_count": 12,
   "id": "89f8efd2",
   "metadata": {},
   "outputs": [],
   "source": [
    "source = randint(0, 10, (5, 6, 4))\n",
    "dest = np.zeros((1000, 4, 1000))\n",
    "indices = randint(0, 1000, (5, 6, 2))\n",
    "\n",
    "# ensure that indices are unique to prevent WAW hazard\n",
    "while len(np.unique(indices)) != 60:\n",
    "  indices = randint(0, 1000, (5, 6, 2))\n",
    "\n",
    "# no shuffle needed because instead we're explicitly slicing the indices\n",
    "dest[indices[:, :, 0], :, indices[:, :, 1]] = source\n",
    "\n",
    "for index in np.ndindex(5, 6):\n",
    "  coord = indices[*index]\n",
    "  assert np.array_equal(dest[coord[0], :, coord[1]], source[index])\n",
    "    \n",
    "assert dest.shape == (1000, 4, 1000)"
   ]
  },
  {
   "cell_type": "markdown",
   "id": "915a0457",
   "metadata": {},
   "source": [
    "Note we don't need a `np.moveaxis` here because we're explicitly slicing `indices`; imagine writing thirty $4$ entry slices (i.e., the slices `source[i, j, :]`) to $5 \\times 6$ pairs in `dest`, where `dest[k, :, m]` and `k = indices[i, j, 0]` and `m = indices[i, j, 1]`."
   ]
  },
  {
   "cell_type": "markdown",
   "id": "9f111ce6",
   "metadata": {},
   "source": [
    "# Biblio\n",
    "\n",
    "* [[RFC] Adding Gather, Scatter Ops](https://discourse.llvm.org/t/rfc-adding-gather-scatter-ops/64757)\n",
    "\n",
    "* [[RFC] Structured Codegen Beyond Rectangular Arrays](https://discourse.llvm.org/t/rfc-structured-codegen-beyond-rectangular-arrays/64707)\n",
    "\n",
    "* [What does the gather function do in pytorch in layman terms?](https://stackoverflow.com/a/54706716)"
   ]
  }
 ],
 "metadata": {
  "kernelspec": {
   "display_name": "Python 3 (ipykernel)",
   "language": "python",
   "name": "python3"
  },
  "language_info": {
   "codemirror_mode": {
    "name": "ipython",
    "version": 3
   },
   "file_extension": ".py",
   "mimetype": "text/x-python",
   "name": "python",
   "nbconvert_exporter": "python",
   "pygments_lexer": "ipython3",
   "version": "3.11.3"
  }
 },
 "nbformat": 4,
 "nbformat_minor": 5
}
